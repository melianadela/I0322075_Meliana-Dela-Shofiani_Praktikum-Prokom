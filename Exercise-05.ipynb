{
 "cells": [
  {
   "attachments": {},
   "cell_type": "markdown",
   "metadata": {},
   "source": [
    "1. Buatlah program untuk menghitung pangkat 2 dari angka 1 hingga 50!"
   ]
  },
  {
   "cell_type": "code",
   "execution_count": 2,
   "metadata": {},
   "outputs": [
    {
     "name": "stdout",
     "output_type": "stream",
     "text": [
      "1 kuadrat = 1\n",
      "2 kuadrat = 4\n",
      "3 kuadrat = 9\n",
      "4 kuadrat = 16\n",
      "5 kuadrat = 25\n",
      "6 kuadrat = 36\n",
      "7 kuadrat = 49\n",
      "8 kuadrat = 64\n",
      "9 kuadrat = 81\n",
      "10 kuadrat = 100\n",
      "11 kuadrat = 121\n",
      "12 kuadrat = 144\n",
      "13 kuadrat = 169\n",
      "14 kuadrat = 196\n",
      "15 kuadrat = 225\n",
      "16 kuadrat = 256\n",
      "17 kuadrat = 289\n",
      "18 kuadrat = 324\n",
      "19 kuadrat = 361\n",
      "20 kuadrat = 400\n",
      "21 kuadrat = 441\n",
      "22 kuadrat = 484\n",
      "23 kuadrat = 529\n",
      "24 kuadrat = 576\n",
      "25 kuadrat = 625\n",
      "26 kuadrat = 676\n",
      "27 kuadrat = 729\n",
      "28 kuadrat = 784\n",
      "29 kuadrat = 841\n",
      "30 kuadrat = 900\n",
      "31 kuadrat = 961\n",
      "32 kuadrat = 1024\n",
      "33 kuadrat = 1089\n",
      "34 kuadrat = 1156\n",
      "35 kuadrat = 1225\n",
      "36 kuadrat = 1296\n",
      "37 kuadrat = 1369\n",
      "38 kuadrat = 1444\n",
      "39 kuadrat = 1521\n",
      "40 kuadrat = 1600\n",
      "41 kuadrat = 1681\n",
      "42 kuadrat = 1764\n",
      "43 kuadrat = 1849\n",
      "44 kuadrat = 1936\n",
      "45 kuadrat = 2025\n",
      "46 kuadrat = 2116\n",
      "47 kuadrat = 2209\n",
      "48 kuadrat = 2304\n",
      "49 kuadrat = 2401\n",
      "50 kuadrat = 2500\n"
     ]
    }
   ],
   "source": [
    "# Kerjakan nomor 1 di sini\n",
    "for i in range(1,51):\n",
    "    print(f\"{i} kuadrat = {i**2}\")"
   ]
  },
  {
   "attachments": {},
   "cell_type": "markdown",
   "metadata": {},
   "source": [
    "2. Buatlah sebuah list yang berisi daftar nama mahasiswa angkatan kalian minimal sejumlah 10 nama. Kemudian buat program pencarian menggunakan pengulangan, di mana apabila nama yang user inputkan sudah sesuai dengan isi list maka program akan berhenti dan menampilkan output \"Pencarian anda sudah berakhir\""
   ]
  },
  {
   "attachments": {},
   "cell_type": "markdown",
   "metadata": {},
   "source": [
    "catatan: perhatikan user dapat menginputkan menggunakan baik huruf kapital maupun tidak"
   ]
  },
  {
   "cell_type": "code",
   "execution_count": 15,
   "metadata": {},
   "outputs": [
    {
     "name": "stdout",
     "output_type": "stream",
     "text": [
      "Meliana\n",
      "Meli\n",
      "Eli\n",
      "Ana\n",
      "Dela\n",
      "Shofiani\n",
      "Pencarian anda sudah berakhir\n"
     ]
    }
   ],
   "source": [
    "# Kerjakan nomor 2 di sini\n",
    "Nama = [\"Meliana\", \"Meli\", \"Eli\", \"Ana\", \"Dela\", \"Shofiani\", \"Shofi\", \"Ani\", \"Sho\", \"Fiani\", \"Mel\", \"Li\"]\n",
    "Pencarian = str(input(\"Masukkan nama yang dicari : \"))\n",
    "for i in Nama:\n",
    "    print(i)\n",
    "    if i == Pencarian.capitalize():\n",
    "        print(\"Pencarian anda sudah berakhir\")\n",
    "        break"
   ]
  },
  {
   "attachments": {},
   "cell_type": "markdown",
   "metadata": {},
   "source": [
    "3. Disajikan list sebagai berikut "
   ]
  },
  {
   "cell_type": "code",
   "execution_count": null,
   "metadata": {},
   "outputs": [],
   "source": [
    "bulan = ['januari', 'februari', 'maret', 'april','mei','juni','juli','agustus','september','oktober','november','desember']\n",
    "kota = ['jakarta' , 'kuala lumpur', 'bangkok', 'seoul', 'canada','london','dubai','barcelona']"
   ]
  },
  {
   "attachments": {},
   "cell_type": "markdown",
   "metadata": {},
   "source": [
    "Robert adalah seorang penyanyi terkenal. Dia merencanakan konser world tour di tahun 2024 mendatang di berbagai negara. Dengan catatan pada bulan April dan Mei, Robert kembali ke indonesia untuk istirahat sejenak kemudian melanjutkan lagi konser. Berdasarkan kasus tersebut buatlah program pengulangannya!"
   ]
  },
  {
   "cell_type": "code",
   "execution_count": 57,
   "metadata": {},
   "outputs": [
    {
     "name": "stdout",
     "output_type": "stream",
     "text": [
      "Bulan januari Robert world tour ke jakarta\n",
      "Bulan februari Robert world tour ke kuala lumpur\n",
      "Bulan maret Robert world tour ke bangkok\n",
      "Bulan april Robert tidak ada world tour\n",
      "Bulan mei Robert tidak ada world tour\n",
      "Bulan juni Robert world tour ke seoul\n",
      "Bulan juli Robert world tour ke canada\n",
      "Bulan agustus Robert world tour ke london\n",
      "Bulan september Robert world tour ke dubai\n",
      "Bulan oktober Robert world tour ke barcelona\n",
      "World tour Robert 2024 selesai\n"
     ]
    }
   ],
   "source": [
    "# kerjakan nomor 3 di sini\n",
    "bulan = ['januari', 'februari', 'maret', 'april','mei','juni','juli','agustus','september','oktober','november','desember']\n",
    "kota = ['jakarta' , 'kuala lumpur', 'bangkok', 'seoul', 'canada','london','dubai','barcelona']\n",
    "j = 0\n",
    "for i in bulan:\n",
    "    if i in [\"april\", \"mei\"] :\n",
    "        print(f\"Bulan {i} Robert tidak ada world tour\")\n",
    "        continue\n",
    "    else:\n",
    "        print(f\"Bulan {i} Robert world tour ke {kota[j]}\")\n",
    "        j+=1\n",
    "        if j == 8:\n",
    "            print(\"World tour Robert 2024 selesai\")\n",
    "            break\n"
   ]
  }
 ],
 "metadata": {
  "kernelspec": {
   "display_name": "Python 3",
   "language": "python",
   "name": "python3"
  },
  "language_info": {
   "codemirror_mode": {
    "name": "ipython",
    "version": 3
   },
   "file_extension": ".py",
   "mimetype": "text/x-python",
   "name": "python",
   "nbconvert_exporter": "python",
   "pygments_lexer": "ipython3",
   "version": "3.11.0"
  },
  "orig_nbformat": 4
 },
 "nbformat": 4,
 "nbformat_minor": 2
}
