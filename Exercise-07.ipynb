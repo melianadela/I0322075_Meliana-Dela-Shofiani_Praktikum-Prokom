{
 "cells": [
  {
   "cell_type": "code",
   "execution_count": 18,
   "metadata": {},
   "outputs": [
    {
     "name": "stdout",
     "output_type": "stream",
     "text": [
      "1 2 3 4 \n",
      "5 6 7 8 \n",
      "9 9 8 7 \n",
      "6 5 4 3 \n"
     ]
    }
   ],
   "source": [
    "#Buatlah sebuah fungsi untuk membuat matrix berdasarkan input dari user\n",
    "\n",
    "def create_matrix(baris,kolom):\n",
    "    matrix = []\n",
    "\n",
    "    #Tulis kode kamu disini\n",
    "    for i in range(baris):\n",
    "        isi = []\n",
    "\n",
    "        for j in range(kolom):\n",
    "            elemen = int(input(f\"Masukkan elemen matriks[{i+1}][{j+1}]: \"))\n",
    "            isi.append(elemen)\n",
    "        matrix.append(isi)\n",
    "\n",
    "    return matrix\n",
    "\n",
    "baris = int(input('Masukkan Jumlah Baris:\\t'))\n",
    "kolom = int(input('Masukkan Jumlah Kolom:\\t'))\n",
    "matrix = create_matrix(baris,kolom)\n",
    "\n",
    "for i in range(baris):\n",
    "    for j in range(kolom):\n",
    "        print(matrix[i][j], end=\" \")\n",
    "    print()\n"
   ]
  },
  {
   "cell_type": "code",
   "execution_count": 40,
   "metadata": {},
   "outputs": [
    {
     "name": "stdout",
     "output_type": "stream",
     "text": [
      "3 5 \n",
      "2 4 \n",
      "Determinan matrix = [2.000000000000001]\n"
     ]
    }
   ],
   "source": [
    "#Buatlah sebuah fungsi untuk mencari determinan matrix berdasarkan input matrix dari user\n",
    "import numpy as np\n",
    "\n",
    "def create_matrix(baris,kolom):\n",
    "    matrix = []\n",
    "\n",
    "    for i in range(baris):\n",
    "        isi = []\n",
    "\n",
    "        for j in range(kolom):\n",
    "            elemen = int(input(f\"Masukkan elemen matriks[{i+1}][{j+1}]: \"))\n",
    "            isi.append(elemen)\n",
    "        matrix.append(isi)\n",
    "\n",
    "    return matrix\n",
    "\n",
    "baris = int(input('Masukkan Jumlah Baris:\\t'))\n",
    "kolom = int(input('Masukkan Jumlah Kolom:\\t'))\n",
    "matrix = create_matrix(baris,kolom)\n",
    "\n",
    "for i in range(baris):\n",
    "    for j in range(kolom):\n",
    "        print(matrix[i][j], end=\" \")\n",
    "    print()\n",
    "\n",
    "def determinan():\n",
    "    det = []\n",
    "    detmatrix = np.linalg.det(matrix)\n",
    "    det.append(detmatrix)\n",
    "    return det\n",
    "\n",
    "det = determinan()\n",
    "print(f'Determinan matrix = {det}')\n",
    "\n"
   ]
  },
  {
   "cell_type": "code",
   "execution_count": 43,
   "metadata": {},
   "outputs": [
    {
     "name": "stdout",
     "output_type": "stream",
     "text": [
      "Matrix1\n",
      "2 2 \n",
      "2 2 \n",
      "Matrix2\n",
      "2 2 \n",
      "2 2 \n",
      "Hasil kali matrix = \n",
      "[array([[8, 8],\n",
      "       [8, 8]])]\n"
     ]
    }
   ],
   "source": [
    "#Buatlah fungsi untuk mengakalikan dua buah matrix berdasarkan input user menggunakan nested loop\n",
    "import numpy as np\n",
    "baris = int(input('Masukkan Jumlah Baris:\\t'))\n",
    "kolom = int(input('Masukkan Jumlah Kolom:\\t'))\n",
    "\n",
    "print('Matrix1')\n",
    "def create_matrix1(baris,kolom):\n",
    "    matrix1 = []\n",
    "\n",
    "    for i in range(baris):\n",
    "        isi = []\n",
    "\n",
    "        for j in range(kolom):\n",
    "            elemen = int(input(f\"Masukkan elemen matriks[{i+1}][{j+1}]: \"))\n",
    "            isi.append(elemen)\n",
    "        matrix1.append(isi)\n",
    "\n",
    "    return matrix1\n",
    "\n",
    "matrix1 = create_matrix1(baris,kolom)\n",
    "for i in range(baris):\n",
    "    for j in range(kolom):\n",
    "        print(matrix1[i][j], end=\" \")\n",
    "    print()\n",
    "\n",
    "print('Matrix2')\n",
    "def create_matrix2(baris,kolom):\n",
    "    matrix2 = []\n",
    "\n",
    "    for i in range(baris):\n",
    "        isi = []\n",
    "\n",
    "        for j in range(kolom):\n",
    "            elemen = int(input(f\"Masukkan elemen matriks[{i+1}][{j+1}]: \"))\n",
    "            isi.append(elemen)\n",
    "        matrix2.append(isi)\n",
    "\n",
    "    return matrix\n",
    "\n",
    "matrix2 = create_matrix(baris,kolom)\n",
    "for i in range(baris):\n",
    "    for j in range(kolom):\n",
    "        print(matrix2[i][j], end=\" \")\n",
    "\n",
    "    print()\n",
    "\n",
    "def multiply_matrix(matrix1, matrix2):\n",
    "    result=[]\n",
    "    kali = np.dot(matrix1,matrix2)\n",
    "    result.append(kali)\n",
    "    return result\n",
    "\n",
    "result = multiply_matrix(matrix1, matrix2)\n",
    "print(f'Hasil kali matrix = \\n{result}')"
   ]
  }
 ],
 "metadata": {
  "language_info": {
   "name": "python"
  },
  "orig_nbformat": 4
 },
 "nbformat": 4,
 "nbformat_minor": 2
}
