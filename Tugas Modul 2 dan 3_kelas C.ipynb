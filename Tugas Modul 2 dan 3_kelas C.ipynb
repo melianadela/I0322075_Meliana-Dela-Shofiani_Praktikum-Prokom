{
 "cells": [
  {
   "cell_type": "code",
   "execution_count": 1,
   "metadata": {},
   "outputs": [
    {
     "name": "stdout",
     "output_type": "stream",
     "text": [
      "Meliana Dela Shofiani\n",
      "I0322075\n",
      "C\n"
     ]
    }
   ],
   "source": [
    "print(input(\"Nama: \"))\n",
    "print(input(\"NIM: \"))\n",
    "print(input(\"Kelas: \"))"
   ]
  },
  {
   "attachments": {},
   "cell_type": "markdown",
   "metadata": {},
   "source": [
    "## 1."
   ]
  },
  {
   "attachments": {},
   "cell_type": "markdown",
   "metadata": {},
   "source": [
    "buatlah program sederhana untuk:\n",
    "* **A** mencari massa jika diketahui nilai energi potensial, percepatan gravitasi, dan ketinggian benda! beserta rumus nya!\n",
    "* **B** mencari gaya apung jika diketahui massa jenis, tinggi, panjang, dan lebar benda serta percepatan gravitasi dan contohnya! beserta rumus nya!\n",
    "* **C** Tulis program Python untuk menghitung luas dari segi lima sama sisi!\n",
    "\n",
    "> *note* : rumus, contoh, dan nilai dari tiap variabel ditentukan oleh kalian sendiri dan gunakan satuan baku (SI) untuk menghitung nilai dari tiap variabel"
   ]
  },
  {
   "cell_type": "code",
   "execution_count": 19,
   "metadata": {},
   "outputs": [
    {
     "name": "stdout",
     "output_type": "stream",
     "text": [
      "Diketahui :\n",
      "Energi potensial     =  100 J\n",
      "Percepatan gravitasi =  10 m/s^2\n",
      "Ketinggian benda     =  5 m\n",
      "\n",
      "Ditanya :\n",
      "Berapa massa benda?\n",
      "\n",
      "Jawab :\n",
      "Rumus Energi potensial, Ep = m.g.h\n",
      "Rumus massa benda, m = Ep/(g.h)\n",
      "m =  2.0 kg\n"
     ]
    }
   ],
   "source": [
    "#A Energi Potensial\n",
    "#Diketahui\n",
    "Ep = 100\n",
    "g  = 10\n",
    "h  = 5\n",
    "print(\"Diketahui :\")\n",
    "print(\"Energi potensial     = \",Ep,\"J\")\n",
    "print(\"Percepatan gravitasi = \",g,\"m/s^2\")\n",
    "print(\"Ketinggian benda     = \",h,\"m\")\n",
    "print()\n",
    "\n",
    "#Ditanya massa\n",
    "print(\"Ditanya :\")\n",
    "print(\"Berapa massa benda?\")\n",
    "print()\n",
    "\n",
    "#Jawab\n",
    "print(\"Jawab :\")\n",
    "print(\"Rumus Energi potensial, Ep = m.g.h\")\n",
    "print(\"Rumus massa benda, m = Ep/(g.h)\")\n",
    "massa = Ep/(g*h)\n",
    "print(\"m = \",massa,\"kg\")"
   ]
  },
  {
   "cell_type": "code",
   "execution_count": 3,
   "metadata": {},
   "outputs": [
    {
     "name": "stdout",
     "output_type": "stream",
     "text": [
      "Sebatang aluminium berbentuk balok mempunyai panjang 4 m, lebar 3 m, dan tinggi 2 m. Jika balok tersebut tenggelam dalam air dan massa jenis air adalah 1000kg/m^3 serta percepatan gaya gravitasi adalah 10m/s^2, maka besar gaya apung adalah?\n",
      "Diketahui :\n",
      "Massa jenis air      =  1000 kg/m^3\n",
      "Tinggi benda         =  2 m\n",
      "Panjang benda        =  4 m\n",
      "Lebar benda          =  3 m\n",
      "Percepatan gravitasi =  10 m/s^2\n",
      "\n",
      "Ditanya :\n",
      "Berapa nilai gaya apung?\n",
      "\n",
      "Jawab :\n",
      "Rumus gaya apung, F = rho.g.V, dengan V = p.l.t\n",
      "F = rho.g.p.l.t\n",
      "F =  240000 N\n"
     ]
    }
   ],
   "source": [
    "#B Gaya Apung\n",
    "#Diketahui\n",
    "print(\"Sebatang aluminium berbentuk balok mempunyai panjang 4 m, lebar 3 m, dan tinggi 2 m. Jika balok tersebut tenggelam dalam air dan massa jenis air adalah 1000kg/m^3 serta percepatan gaya gravitasi adalah 10m/s^2, maka besar gaya apung adalah?\")\n",
    "rho = 1000\n",
    "t   = 2\n",
    "p   = 4\n",
    "l   = 3\n",
    "g   = 10\n",
    "print(\"Diketahui :\")\n",
    "print(\"Massa jenis air      = \",rho,\"kg/m^3\")\n",
    "print(\"Tinggi benda         = \",t,\"m\")\n",
    "print(\"Panjang benda        = \",p,\"m\")\n",
    "print(\"Lebar benda          = \",l,\"m\")\n",
    "print(\"Percepatan gravitasi = \",g,\"m/s^2\")\n",
    "print()\n",
    "\n",
    "#Ditanya Gaya apung\n",
    "print(\"Ditanya :\")\n",
    "print(\"Berapa nilai gaya apung?\")\n",
    "print()\n",
    "\n",
    "#Jawab\n",
    "print(\"Jawab :\")\n",
    "print(\"Rumus gaya apung, F = rho.g.V, dengan V = p.l.t\")\n",
    "print(\"F = rho.g.p.l.t\")\n",
    "F = rho*g*p*l*t\n",
    "print(\"F = \",F,\"N\")"
   ]
  },
  {
   "cell_type": "code",
   "execution_count": 21,
   "metadata": {},
   "outputs": [
    {
     "name": "stdout",
     "output_type": "stream",
     "text": [
      "Menghitung luas segi lima sama sisi dengan panjang sisi  2 m\n",
      "Rumus luas segi lima sama sisi, L = 1/4.akar(5.(5+2.akar 5).s^2)\n",
      "L =  3.440954801177934 m^2\n"
     ]
    }
   ],
   "source": [
    "#C Menghitung luas segi lima sama sisi\n",
    "#Contoh\n",
    "s = 2\n",
    "print(\"Menghitung luas segi lima sama sisi dengan panjang sisi \",s,\"m\")\n",
    "\n",
    "#Rumus Luas\n",
    "import math\n",
    "L = 1/4 * (math.sqrt((5*(5+2*(math.sqrt(5)))*s**2)))\n",
    "print(\"Rumus luas segi lima sama sisi, L = 1/4.akar(5.(5+2.akar 5).s^2)\")\n",
    "\n",
    "#Hasil\n",
    "print(\"L = \",L,\"m^2\")"
   ]
  },
  {
   "attachments": {},
   "cell_type": "markdown",
   "metadata": {},
   "source": [
    "## 2."
   ]
  },
  {
   "attachments": {},
   "cell_type": "markdown",
   "metadata": {},
   "source": [
    "Taman bermain ANCOL memiliki berbagai wahana, salah satunya adalah bianglala. Harga tiket yang dijual berbeda tergantung dengan kategori nya. Harga tiket bagi orang dewasa atau yang berumur lebih dari 17 tahun adalah Rp 110.000 , harga tiket untuk anak-anak usia 6-16 tahun adalah Rp. 75.000 , sedangkan untuk usia dibawahnya tidak dikenakan biaya. Pada wahana bianglala sedang ada \"Promo RAMADHAN\" sebesar 20% bagi pembelian tiket lebih dari 2 pcs.\n",
    "\n",
    "Keluarga Anya Forger ingin menaiki wahana bianglala tersebut, Anya (usia 18 tahun) pergi bersama ayah dan ibunya beserta dua adiknya, Harry (usia 8 tahun) dan Taylor (usia 4 tahun). \n",
    "\n",
    "> Buatlah program sederhana untuk menghitung harga total dari pembelian tiket  oleh keluarga Anya dan harga tiket setelah mendapatkan diskon"
   ]
  },
  {
   "cell_type": "code",
   "execution_count": 5,
   "metadata": {},
   "outputs": [
    {
     "name": "stdout",
     "output_type": "stream",
     "text": [
      "Total harga tiket = Rp 324000.0\n"
     ]
    }
   ],
   "source": [
    "#Harga Tiket Bianglala Ancol\n",
    "Harga_Dewasa      = 110000 \n",
    "Harga_AnakAnak    = 75000  \n",
    "Harga_DibawahUmur = 0      \n",
    "\n",
    "#Kategori Tiket\n",
    "Kategori_Dewasa      = [\"Ayah\",\"Ibu\",\"Anya\"] #Umur >= 17\n",
    "Kategori_AnakAnak    = [\"Harry\"]             #Umur 6-16 tahun\n",
    "Kategori_DibawahUmur = [\"Taylor\"]            #Umur < 6 tahun\n",
    "\n",
    "#Pembayaran\n",
    "Tiket_Dewasa      = len(Kategori_Dewasa)*Harga_Dewasa\n",
    "Tiket_AnakAnak    = len(Kategori_AnakAnak)*Harga_AnakAnak\n",
    "Tiket_DibawahUmur = len(Kategori_DibawahUmur)*Harga_DibawahUmur\n",
    "\n",
    "BanyakTiket = len(Kategori_Dewasa)+len(Kategori_AnakAnak)+len(Kategori_DibawahUmur)\n",
    "HargaTiket  = Tiket_Dewasa+Tiket_AnakAnak+Tiket_DibawahUmur\n",
    "\n",
    "if BanyakTiket >2 :\n",
    "    print(\"Total harga tiket = Rp\", HargaTiket-(HargaTiket*20/100))\n",
    "else :\n",
    "    print(\"TotalHargaTiket = Rp\", HargaTiket)"
   ]
  },
  {
   "attachments": {},
   "cell_type": "markdown",
   "metadata": {},
   "source": [
    "## 3. "
   ]
  },
  {
   "attachments": {},
   "cell_type": "markdown",
   "metadata": {},
   "source": [
    "diberikan list aslab sebagai berikut:\n",
    "```python\n",
    "list_aslab = [\n",
    "    {\"nama\": \"Berlian Safri Prakoso\", \"nim\": \"I0320017\", \"kontak\": \"0858XXXXXXXX\"},\n",
    "    {\"nama\": \"Halidya Siti Hanifah\", \"nim\": \"I0320044\", \"kontak\": \"0878XXXXXXXX\"},\n",
    "    {\"nama\": \"Nurki Putra Mahardika\", \"nim\": \"I0320076\", \"kontak\": \"0877XXXXXXXX\"},\n",
    "    {\"nama\": \"Aji Manarul Aziz\", \"nim\": \"I0320119\", \"kontak\": \"0812XXXXXXXX\"},\n",
    "    {\"nama\": \"Alica Ayu Fitriani\", \"nim\": \"I0320121\", \"kontak\": \"0896XXXXXXXX\"},\n",
    "    {\"nama\": \"Dendy Halim Kusuma\", \"nim\": \"I0320125\", \"kontak\": \"0822XXXXXXXX\"}\n",
    "]\n",
    "```\n",
    "* **A** Tuliskan kode untuk mengakses informasi tentang \"nama\" dari semua aslab mulai dari index 1 sampai 5\n",
    "* **B** Tambahkan informasi berikut pada data aslab dan tampilkan hasilnya:\n",
    "```python\n",
    "    surel = [\"berlian@student.uns.ac.id\",\n",
    "          \"halidya@student.uns.ac.id\",\n",
    "          \"nurki@student.uns.ac.id\",\n",
    "          \"manarul@student.uns.ac.id\",\n",
    "          \"alica@student.uns.ac.id\",\n",
    "          \"dendy@student.uns.ac.id\"]\n",
    "```\n",
    "* **C** Hapus nilai pada kunci \"kontak\" pada list aslab dan tampilkan hasilnya\n",
    "> *note: kalian hanya boleh menggunakan key-value pair yang disebutkan di dalam teks, tanpa menggunakan informasi tambahan yang diambil pada list yang ada*"
   ]
  },
  {
   "cell_type": "code",
   "execution_count": 2,
   "metadata": {},
   "outputs": [
    {
     "name": "stdout",
     "output_type": "stream",
     "text": [
      "Halidya Siti Hanifah\n",
      "Nurki Putra Mahardika\n",
      "Aji Manarul Aziz\n",
      "Alica Ayu Fitriani\n",
      "Dendy Halim Kusuma\n"
     ]
    }
   ],
   "source": [
    "#A Mengakses informasi \"nama\" mulai index 1 sampai 5\n",
    "list_aslab = [\n",
    "    {\"nama\": \"Berlian Safri Prakoso\", \"nim\": \"I0320017\", \"kontak\": \"0858XXXXXXXX\"},\n",
    "    {\"nama\": \"Halidya Siti Hanifah\", \"nim\": \"I0320044\", \"kontak\": \"0878XXXXXXXX\"},\n",
    "    {\"nama\": \"Nurki Putra Mahardika\", \"nim\": \"I0320076\", \"kontak\": \"0877XXXXXXXX\"},\n",
    "    {\"nama\": \"Aji Manarul Aziz\", \"nim\": \"I0320119\", \"kontak\": \"0812XXXXXXXX\"},\n",
    "    {\"nama\": \"Alica Ayu Fitriani\", \"nim\": \"I0320121\", \"kontak\": \"0896XXXXXXXX\"},\n",
    "    {\"nama\": \"Dendy Halim Kusuma\", \"nim\": \"I0320125\", \"kontak\": \"0822XXXXXXXX\"}\n",
    "]\n",
    "\n",
    "for i in range(1,6):\n",
    "    print(list_aslab[i][\"nama\"])"
   ]
  },
  {
   "cell_type": "code",
   "execution_count": 2,
   "metadata": {},
   "outputs": [
    {
     "name": "stdout",
     "output_type": "stream",
     "text": [
      "[{'nama': 'Berlian Safri Prakoso', 'nim': 'I0320017', 'kontak': '0858XXXXXXXX', 'surel': 'berlian@student.uns.ac.id'}, {'nama': 'Halidya Siti Hanifah', 'nim': 'I0320044', 'kontak': '0878XXXXXXXX', 'surel': 'halidya@student.uns.ac.id'}, {'nama': 'Nurki Putra Mahardika', 'nim': 'I0320076', 'kontak': '0877XXXXXXXX', 'surel': 'nurki@student.uns.ac.id'}, {'nama': 'Aji Manarul Aziz', 'nim': 'I0320119', 'kontak': '0812XXXXXXXX', 'surel': 'manarul@student.uns.ac.id'}, {'nama': 'Alica Ayu Fitriani', 'nim': 'I0320121', 'kontak': '0896XXXXXXXX', 'surel': 'alica@student.uns.ac.id'}, {'nama': 'Dendy Halim Kusuma', 'nim': 'I0320125', 'kontak': '0822XXXXXXXX', 'surel': 'dendy@student.uns.ac.id'}]\n"
     ]
    }
   ],
   "source": [
    "#B Menambahkan informasi\n",
    "list_aslab = [\n",
    "    {\"nama\": \"Berlian Safri Prakoso\", \"nim\": \"I0320017\", \"kontak\": \"0858XXXXXXXX\"},\n",
    "    {\"nama\": \"Halidya Siti Hanifah\", \"nim\": \"I0320044\", \"kontak\": \"0878XXXXXXXX\"},\n",
    "    {\"nama\": \"Nurki Putra Mahardika\", \"nim\": \"I0320076\", \"kontak\": \"0877XXXXXXXX\"},\n",
    "    {\"nama\": \"Aji Manarul Aziz\", \"nim\": \"I0320119\", \"kontak\": \"0812XXXXXXXX\"},\n",
    "    {\"nama\": \"Alica Ayu Fitriani\", \"nim\": \"I0320121\", \"kontak\": \"0896XXXXXXXX\"},\n",
    "    {\"nama\": \"Dendy Halim Kusuma\", \"nim\": \"I0320125\", \"kontak\": \"0822XXXXXXXX\"}\n",
    "]\n",
    "surel = [\"berlian@student.uns.ac.id\",\n",
    "          \"halidya@student.uns.ac.id\",\n",
    "          \"nurki@student.uns.ac.id\",\n",
    "          \"manarul@student.uns.ac.id\",\n",
    "          \"alica@student.uns.ac.id\",\n",
    "          \"dendy@student.uns.ac.id\"]\n",
    "for i in range (len(list_aslab)):\n",
    "    list_aslab[i][\"surel\"] = surel[i]\n",
    "print(list_aslab)\n",
    "    \n",
    "   \n"
   ]
  },
  {
   "cell_type": "code",
   "execution_count": 4,
   "metadata": {},
   "outputs": [
    {
     "name": "stdout",
     "output_type": "stream",
     "text": [
      "[{'nama': 'Berlian Safri Prakoso', 'nim': 'I0320017', 'surel': 'berlian@student.uns.ac.id'}, {'nama': 'Halidya Siti Hanifah', 'nim': 'I0320044', 'surel': 'halidya@student.uns.ac.id'}, {'nama': 'Nurki Putra Mahardika', 'nim': 'I0320076', 'surel': 'nurki@student.uns.ac.id'}, {'nama': 'Aji Manarul Aziz', 'nim': 'I0320119', 'surel': 'manarul@student.uns.ac.id'}, {'nama': 'Alica Ayu Fitriani', 'nim': 'I0320121', 'surel': 'alica@student.uns.ac.id'}, {'nama': 'Dendy Halim Kusuma', 'nim': 'I0320125', 'surel': 'dendy@student.uns.ac.id'}]\n"
     ]
    }
   ],
   "source": [
    "#C Menghapus informasi \"kontak\" pada list aslab\n",
    "list_aslab = [\n",
    "    {\"nama\": \"Berlian Safri Prakoso\", \"nim\": \"I0320017\", \"kontak\": \"0858XXXXXXXX\"},\n",
    "    {\"nama\": \"Halidya Siti Hanifah\", \"nim\": \"I0320044\", \"kontak\": \"0878XXXXXXXX\"},\n",
    "    {\"nama\": \"Nurki Putra Mahardika\", \"nim\": \"I0320076\", \"kontak\": \"0877XXXXXXXX\"},\n",
    "    {\"nama\": \"Aji Manarul Aziz\", \"nim\": \"I0320119\", \"kontak\": \"0812XXXXXXXX\"},\n",
    "    {\"nama\": \"Alica Ayu Fitriani\", \"nim\": \"I0320121\", \"kontak\": \"0896XXXXXXXX\"},\n",
    "    {\"nama\": \"Dendy Halim Kusuma\", \"nim\": \"I0320125\", \"kontak\": \"0822XXXXXXXX\"}\n",
    "]\n",
    "surel = [\"berlian@student.uns.ac.id\",\n",
    "          \"halidya@student.uns.ac.id\",\n",
    "          \"nurki@student.uns.ac.id\",\n",
    "          \"manarul@student.uns.ac.id\",\n",
    "          \"alica@student.uns.ac.id\",\n",
    "          \"dendy@student.uns.ac.id\"]\n",
    "for i in range (len(list_aslab)):\n",
    "    list_aslab[i][\"surel\"] = surel[i]\n",
    "for aslab in list_aslab:\n",
    "    del aslab [\"kontak\"]\n",
    "print(list_aslab)"
   ]
  }
 ],
 "metadata": {
  "kernelspec": {
   "display_name": "Python 3",
   "language": "python",
   "name": "python3"
  },
  "language_info": {
   "codemirror_mode": {
    "name": "ipython",
    "version": 3
   },
   "file_extension": ".py",
   "mimetype": "text/x-python",
   "name": "python",
   "nbconvert_exporter": "python",
   "pygments_lexer": "ipython3",
   "version": "3.11.2"
  },
  "orig_nbformat": 4,
  "vscode": {
   "interpreter": {
    "hash": "5addf786bcd861d1ce5006f23111f8cbb206731e5b61b0a5632ba9e0252558a8"
   }
  }
 },
 "nbformat": 4,
 "nbformat_minor": 2
}
